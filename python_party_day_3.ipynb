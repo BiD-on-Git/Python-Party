{
 "cells": [
  {
   "cell_type": "markdown",
   "metadata": {},
   "source": [
    "#### Control Structures"
   ]
  },
  {
   "cell_type": "code",
   "execution_count": null,
   "metadata": {},
   "outputs": [],
   "source": [
    "# Control Structures - This is used to determine the flow of the execution of code."
   ]
  },
  {
   "cell_type": "markdown",
   "metadata": {},
   "source": [
    "![](control_structures.jpg)"
   ]
  },
  {
   "cell_type": "code",
   "execution_count": 1,
   "metadata": {},
   "outputs": [
    {
     "name": "stdout",
     "output_type": "stream",
     "text": [
      "You are the right person for the class\n"
     ]
    }
   ],
   "source": [
    "# Example of Conditional Control Stuctures\n",
    "age = 35\n",
    "weight = 130\n",
    "\n",
    "if age > 35:\n",
    "    print ('you are too old for this class')\n",
    "else:\n",
    "    print ('You are the right person for the class')"
   ]
  },
  {
   "cell_type": "code",
   "execution_count": 20,
   "metadata": {},
   "outputs": [
    {
     "name": "stdout",
     "output_type": "stream",
     "text": [
      "How was whatever you ate?\n"
     ]
    }
   ],
   "source": [
    "# If, Elif, Else - Used when there are multiple (more than 2) conditions to evaluate\n",
    "meal = input('What did you just eat: ')\n",
    "\n",
    "if meal == 'breakfast':\n",
    "    print('How was your breakfast')\n",
    "elif meal == 'lunch':\n",
    "    print('How was your lunch')\n",
    "else:\n",
    "    print('How was whatever you ate?')"
   ]
  },
  {
   "cell_type": "code",
   "execution_count": null,
   "metadata": {},
   "outputs": [],
   "source": [
    "# Iterative control structures - For Loop \n",
    "for michael in range(0,15):\n",
    "    print (michael)"
   ]
  },
  {
   "cell_type": "code",
   "execution_count": null,
   "metadata": {},
   "outputs": [],
   "source": [
    "# Iterative control structures - While Loop \n",
    "age_counter = 0\n",
    "while age_counter < 10:\n",
    "    print('you are still a kid')\n",
    "    age_counter = age_counter + 1"
   ]
  },
  {
   "cell_type": "code",
   "execution_count": 33,
   "metadata": {},
   "outputs": [
    {
     "name": "stdout",
     "output_type": "stream",
     "text": [
      "You are not a teenager yet\n"
     ]
    }
   ],
   "source": [
    "# Boolean operators - And/Or\n",
    "age = float(input('Enter your age here:'))\n",
    "\n",
    "if age < 13:\n",
    "    print('You are not a teenager yet')\n",
    "elif age >= 13 and age < 20:\n",
    "    print ('You are a teenager')\n",
    "else:\n",
    "    print('You are an adult')"
   ]
  },
  {
   "cell_type": "code",
   "execution_count": 39,
   "metadata": {},
   "outputs": [],
   "source": [
    "# Sequential Control Structures (Transfer Statements) - break, pass, continue\n",
    "number = int(input('Enter any number here:'))\n",
    "\n",
    "for i in range(0,number):\n",
    "    continue\n",
    "    # if i == 5:\n",
    "    #     pass\n",
    "    # else:\n",
    "    #     print(i)"
   ]
  },
  {
   "cell_type": "markdown",
   "metadata": {},
   "source": [
    "### Introduction to Functions"
   ]
  },
  {
   "cell_type": "code",
   "execution_count": 44,
   "metadata": {},
   "outputs": [],
   "source": [
    "# A function is any declaration in Python that begins with a 'def' \n",
    "# and has a return value using any of the following keywords: print, return, yield\n",
    "\n",
    "def addition(x: int, y: int):\n",
    "    return x + y"
   ]
  },
  {
   "cell_type": "code",
   "execution_count": null,
   "metadata": {},
   "outputs": [],
   "source": [
    "# You call a function by declaring it and supplying the required parameters\n",
    "print(addition(3, 4))"
   ]
  },
  {
   "cell_type": "code",
   "execution_count": 53,
   "metadata": {},
   "outputs": [],
   "source": [
    "# If you do not know beforehand how many parameters a function call will accept, use the *args\n",
    "# keyword. Remember to create a counter variable to hold your return value at initialization.\n",
    "def new_add(*args):\n",
    "    print(args)"
   ]
  },
  {
   "cell_type": "code",
   "execution_count": null,
   "metadata": {},
   "outputs": [],
   "source": [
    "# Another example of a function that requires an arbitrary number of parameters\n",
    "def new_add(*args):\n",
    "    result = 0\n",
    "    for i in args:\n",
    "        result = result + i\n",
    "    return result"
   ]
  },
  {
   "cell_type": "code",
   "execution_count": 54,
   "metadata": {},
   "outputs": [
    {
     "data": {
      "text/plain": [
       "21"
      ]
     },
     "execution_count": 54,
     "metadata": {},
     "output_type": "execute_result"
    }
   ],
   "source": [
    "new_add(1,2,3,4,5,6)"
   ]
  }
 ],
 "metadata": {
  "kernelspec": {
   "display_name": "Python 3.8.11 ('base')",
   "language": "python",
   "name": "python3"
  },
  "language_info": {
   "codemirror_mode": {
    "name": "ipython",
    "version": 3
   },
   "file_extension": ".py",
   "mimetype": "text/x-python",
   "name": "python",
   "nbconvert_exporter": "python",
   "pygments_lexer": "ipython3",
   "version": "3.8.11"
  },
  "orig_nbformat": 4,
  "vscode": {
   "interpreter": {
    "hash": "ad2bdc8ecc057115af97d19610ffacc2b4e99fae6737bb82f5d7fb13d2f2c186"
   }
  }
 },
 "nbformat": 4,
 "nbformat_minor": 2
}
